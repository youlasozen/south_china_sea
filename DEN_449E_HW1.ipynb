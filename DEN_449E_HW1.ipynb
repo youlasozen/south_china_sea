{
 "cells": [
  {
   "cell_type": "code",
   "execution_count": null,
   "id": "a7eccb93",
   "metadata": {},
   "outputs": [],
   "source": [
    "\"\"\"\n",
    "Use data set assigned to your name to solve the questions.\n",
    "Your data sets are mean sea level anomalies for different seas from all over the world.\n",
    "The time data in your data set is decimal year. For example December 19th is the 354th day of the\n",
    "year. Then: December 19th is 2020 + 354 / 365 = 2020.9698 as a decimal date/time.\n",
    "You can use any software to code or analyze (MATLAB, Phyton, Excel, etc.) or simply do calculations\n",
    "manually :).\n",
    "\n"
   ]
  },
  {
   "cell_type": "code",
   "execution_count": null,
   "id": "8fe8e144",
   "metadata": {},
   "outputs": [],
   "source": [
    "\"\"\"\n",
    "1-)Clean your data set (watch the video submitted in the HW definition)\n",
    "    (a) Retain only the relevant information (submit as a seperate .txt, or .xlsx file)\n",
    "    (b) Get the metadata of the data set and explain it verbally.\n",
    "2-)Do basic statistical analysis of your data set:\n",
    "    (a) Find the mean, mode, median of the entire data set.\n",
    "    (b) Find the standard deviation and variance of the entire data set\n",
    "3-)Make a plot of your data set. Use appropriate labeling for axes, and title. If there are units, make\n",
    "    sure you use them.\n",
    "4-)Using the information above, comment if your data is stationary or non-stationary? Explain\n"
   ]
  },
  {
   "cell_type": "code",
   "execution_count": 102,
   "id": "19becf73",
   "metadata": {},
   "outputs": [],
   "source": [
    "import numpy as np #importing libraries\n",
    "import pandas as pd\n",
    "import matplotlib.pyplot as plt\n",
    "import statistics"
   ]
  },
  {
   "cell_type": "code",
   "execution_count": 71,
   "id": "161c2b3c",
   "metadata": {},
   "outputs": [
    {
     "data": {
      "text/html": [
       "<div>\n",
       "<style scoped>\n",
       "    .dataframe tbody tr th:only-of-type {\n",
       "        vertical-align: middle;\n",
       "    }\n",
       "\n",
       "    .dataframe tbody tr th {\n",
       "        vertical-align: top;\n",
       "    }\n",
       "\n",
       "    .dataframe thead th {\n",
       "        text-align: right;\n",
       "    }\n",
       "</style>\n",
       "<table border=\"1\" class=\"dataframe\">\n",
       "  <thead>\n",
       "    <tr style=\"text-align: right;\">\n",
       "      <th></th>\n",
       "      <th>year</th>\n",
       "      <th>TOPEX/Poseidon</th>\n",
       "      <th>Jason-1</th>\n",
       "      <th>Jason-2</th>\n",
       "      <th>Jason-3</th>\n",
       "    </tr>\n",
       "  </thead>\n",
       "  <tbody>\n",
       "    <tr>\n",
       "      <th>0</th>\n",
       "      <td>1992.9609</td>\n",
       "      <td>-5.59</td>\n",
       "      <td>NaN</td>\n",
       "      <td>NaN</td>\n",
       "      <td>NaN</td>\n",
       "    </tr>\n",
       "    <tr>\n",
       "      <th>1</th>\n",
       "      <td>1992.9859</td>\n",
       "      <td>-16.89</td>\n",
       "      <td>NaN</td>\n",
       "      <td>NaN</td>\n",
       "      <td>NaN</td>\n",
       "    </tr>\n",
       "    <tr>\n",
       "      <th>2</th>\n",
       "      <td>1993.0108</td>\n",
       "      <td>-18.49</td>\n",
       "      <td>NaN</td>\n",
       "      <td>NaN</td>\n",
       "      <td>NaN</td>\n",
       "    </tr>\n",
       "    <tr>\n",
       "      <th>3</th>\n",
       "      <td>1993.0382</td>\n",
       "      <td>7.01</td>\n",
       "      <td>NaN</td>\n",
       "      <td>NaN</td>\n",
       "      <td>NaN</td>\n",
       "    </tr>\n",
       "    <tr>\n",
       "      <th>4</th>\n",
       "      <td>1993.0654</td>\n",
       "      <td>11.31</td>\n",
       "      <td>NaN</td>\n",
       "      <td>NaN</td>\n",
       "      <td>NaN</td>\n",
       "    </tr>\n",
       "    <tr>\n",
       "      <th>5</th>\n",
       "      <td>1993.0967</td>\n",
       "      <td>-18.69</td>\n",
       "      <td>NaN</td>\n",
       "      <td>NaN</td>\n",
       "      <td>NaN</td>\n",
       "    </tr>\n",
       "    <tr>\n",
       "      <th>6</th>\n",
       "      <td>1993.1197</td>\n",
       "      <td>-73.89</td>\n",
       "      <td>NaN</td>\n",
       "      <td>NaN</td>\n",
       "      <td>NaN</td>\n",
       "    </tr>\n",
       "    <tr>\n",
       "      <th>7</th>\n",
       "      <td>1993.1472</td>\n",
       "      <td>-71.59</td>\n",
       "      <td>NaN</td>\n",
       "      <td>NaN</td>\n",
       "      <td>NaN</td>\n",
       "    </tr>\n",
       "    <tr>\n",
       "      <th>8</th>\n",
       "      <td>1993.1759</td>\n",
       "      <td>-30.89</td>\n",
       "      <td>NaN</td>\n",
       "      <td>NaN</td>\n",
       "      <td>NaN</td>\n",
       "    </tr>\n",
       "    <tr>\n",
       "      <th>9</th>\n",
       "      <td>1993.2029</td>\n",
       "      <td>-67.89</td>\n",
       "      <td>NaN</td>\n",
       "      <td>NaN</td>\n",
       "      <td>NaN</td>\n",
       "    </tr>\n",
       "  </tbody>\n",
       "</table>\n",
       "</div>"
      ],
      "text/plain": [
       "        year  TOPEX/Poseidon  Jason-1  Jason-2  Jason-3\n",
       "0  1992.9609           -5.59      NaN      NaN      NaN\n",
       "1  1992.9859          -16.89      NaN      NaN      NaN\n",
       "2  1993.0108          -18.49      NaN      NaN      NaN\n",
       "3  1993.0382            7.01      NaN      NaN      NaN\n",
       "4  1993.0654           11.31      NaN      NaN      NaN\n",
       "5  1993.0967          -18.69      NaN      NaN      NaN\n",
       "6  1993.1197          -73.89      NaN      NaN      NaN\n",
       "7  1993.1472          -71.59      NaN      NaN      NaN\n",
       "8  1993.1759          -30.89      NaN      NaN      NaN\n",
       "9  1993.2029          -67.89      NaN      NaN      NaN"
      ]
     },
     "execution_count": 71,
     "metadata": {},
     "output_type": "execute_result"
    }
   ],
   "source": [
    "df = pd.read_csv('south_china_sea1.1.csv') #have look at the data\n",
    "df.head(10)\n"
   ]
  },
  {
   "cell_type": "code",
   "execution_count": 72,
   "id": "ddd5c23e",
   "metadata": {},
   "outputs": [
    {
     "name": "stdout",
     "output_type": "stream",
     "text": [
      "<class 'pandas.core.frame.DataFrame'>\n",
      "RangeIndex: 1308 entries, 0 to 1307\n",
      "Data columns (total 5 columns):\n",
      " #   Column          Non-Null Count  Dtype  \n",
      "---  ------          --------------  -----  \n",
      " 0   year            1308 non-null   float64\n",
      " 1   TOPEX/Poseidon  439 non-null    float64\n",
      " 2   Jason-1         411 non-null    float64\n",
      " 3   Jason-2         301 non-null    float64\n",
      " 4   Jason-3         173 non-null    float64\n",
      "dtypes: float64(5)\n",
      "memory usage: 51.2 KB\n"
     ]
    }
   ],
   "source": [
    "df.info() #finding short info about data set\n"
   ]
  },
  {
   "cell_type": "code",
   "execution_count": 73,
   "id": "37e448cc",
   "metadata": {},
   "outputs": [
    {
     "data": {
      "text/html": [
       "<div>\n",
       "<style scoped>\n",
       "    .dataframe tbody tr th:only-of-type {\n",
       "        vertical-align: middle;\n",
       "    }\n",
       "\n",
       "    .dataframe tbody tr th {\n",
       "        vertical-align: top;\n",
       "    }\n",
       "\n",
       "    .dataframe thead th {\n",
       "        text-align: right;\n",
       "    }\n",
       "</style>\n",
       "<table border=\"1\" class=\"dataframe\">\n",
       "  <thead>\n",
       "    <tr style=\"text-align: right;\">\n",
       "      <th></th>\n",
       "      <th>year</th>\n",
       "      <th>TOPEX/Poseidon</th>\n",
       "      <th>Jason-1</th>\n",
       "      <th>Jason-2</th>\n",
       "      <th>Jason-3</th>\n",
       "    </tr>\n",
       "  </thead>\n",
       "  <tbody>\n",
       "    <tr>\n",
       "      <th>0</th>\n",
       "      <td>False</td>\n",
       "      <td>False</td>\n",
       "      <td>True</td>\n",
       "      <td>True</td>\n",
       "      <td>True</td>\n",
       "    </tr>\n",
       "    <tr>\n",
       "      <th>1</th>\n",
       "      <td>False</td>\n",
       "      <td>False</td>\n",
       "      <td>True</td>\n",
       "      <td>True</td>\n",
       "      <td>True</td>\n",
       "    </tr>\n",
       "    <tr>\n",
       "      <th>2</th>\n",
       "      <td>False</td>\n",
       "      <td>False</td>\n",
       "      <td>True</td>\n",
       "      <td>True</td>\n",
       "      <td>True</td>\n",
       "    </tr>\n",
       "    <tr>\n",
       "      <th>3</th>\n",
       "      <td>False</td>\n",
       "      <td>False</td>\n",
       "      <td>True</td>\n",
       "      <td>True</td>\n",
       "      <td>True</td>\n",
       "    </tr>\n",
       "    <tr>\n",
       "      <th>4</th>\n",
       "      <td>False</td>\n",
       "      <td>False</td>\n",
       "      <td>True</td>\n",
       "      <td>True</td>\n",
       "      <td>True</td>\n",
       "    </tr>\n",
       "    <tr>\n",
       "      <th>...</th>\n",
       "      <td>...</td>\n",
       "      <td>...</td>\n",
       "      <td>...</td>\n",
       "      <td>...</td>\n",
       "      <td>...</td>\n",
       "    </tr>\n",
       "    <tr>\n",
       "      <th>1303</th>\n",
       "      <td>False</td>\n",
       "      <td>True</td>\n",
       "      <td>True</td>\n",
       "      <td>True</td>\n",
       "      <td>False</td>\n",
       "    </tr>\n",
       "    <tr>\n",
       "      <th>1304</th>\n",
       "      <td>False</td>\n",
       "      <td>True</td>\n",
       "      <td>True</td>\n",
       "      <td>True</td>\n",
       "      <td>False</td>\n",
       "    </tr>\n",
       "    <tr>\n",
       "      <th>1305</th>\n",
       "      <td>False</td>\n",
       "      <td>True</td>\n",
       "      <td>True</td>\n",
       "      <td>True</td>\n",
       "      <td>False</td>\n",
       "    </tr>\n",
       "    <tr>\n",
       "      <th>1306</th>\n",
       "      <td>False</td>\n",
       "      <td>True</td>\n",
       "      <td>True</td>\n",
       "      <td>True</td>\n",
       "      <td>False</td>\n",
       "    </tr>\n",
       "    <tr>\n",
       "      <th>1307</th>\n",
       "      <td>False</td>\n",
       "      <td>True</td>\n",
       "      <td>True</td>\n",
       "      <td>True</td>\n",
       "      <td>False</td>\n",
       "    </tr>\n",
       "  </tbody>\n",
       "</table>\n",
       "<p>1308 rows × 5 columns</p>\n",
       "</div>"
      ],
      "text/plain": [
       "       year  TOPEX/Poseidon  Jason-1  Jason-2  Jason-3\n",
       "0     False           False     True     True     True\n",
       "1     False           False     True     True     True\n",
       "2     False           False     True     True     True\n",
       "3     False           False     True     True     True\n",
       "4     False           False     True     True     True\n",
       "...     ...             ...      ...      ...      ...\n",
       "1303  False            True     True     True    False\n",
       "1304  False            True     True     True    False\n",
       "1305  False            True     True     True    False\n",
       "1306  False            True     True     True    False\n",
       "1307  False            True     True     True    False\n",
       "\n",
       "[1308 rows x 5 columns]"
      ]
     },
     "execution_count": 73,
     "metadata": {},
     "output_type": "execute_result"
    }
   ],
   "source": [
    "df.isnull() \n",
    "#fiding missing value  \n",
    "#after this code it can be seen that there is no missing value\n"
   ]
  },
  {
   "cell_type": "code",
   "execution_count": 74,
   "id": "e812292e",
   "metadata": {},
   "outputs": [
    {
     "data": {
      "text/plain": [
       "year                 0\n",
       "TOPEX/Poseidon     869\n",
       "Jason-1            897\n",
       "Jason-2           1007\n",
       "Jason-3           1135\n",
       "dtype: int64"
      ]
     },
     "execution_count": 74,
     "metadata": {},
     "output_type": "execute_result"
    }
   ],
   "source": [
    "df.isnull().sum() #fiding missing values summary"
   ]
  },
  {
   "cell_type": "code",
   "execution_count": 75,
   "id": "929adb43",
   "metadata": {},
   "outputs": [
    {
     "data": {
      "text/plain": [
       "year              0\n",
       "TOPEX/Poseidon    0\n",
       "Jason-1           0\n",
       "Jason-2           0\n",
       "Jason-3           0\n",
       "dtype: int64"
      ]
     },
     "execution_count": 75,
     "metadata": {},
     "output_type": "execute_result"
    }
   ],
   "source": [
    "df.eq(0).sum() #analyzing how many zeros on the data set"
   ]
  },
  {
   "cell_type": "code",
   "execution_count": 76,
   "id": "fb80c6eb",
   "metadata": {},
   "outputs": [
    {
     "data": {
      "text/plain": [
       "(1308, 5)"
      ]
     },
     "execution_count": 76,
     "metadata": {},
     "output_type": "execute_result"
    }
   ],
   "source": [
    "df.shape #finding how many rows and columns"
   ]
  },
  {
   "cell_type": "code",
   "execution_count": 78,
   "id": "6e0e5f28",
   "metadata": {},
   "outputs": [],
   "source": [
    "df['SL']=df.iloc[:,1:5].mean(axis=1) \n",
    "#adding a new column to make the graph esasily"
   ]
  },
  {
   "cell_type": "code",
   "execution_count": 79,
   "id": "f5830f73",
   "metadata": {},
   "outputs": [
    {
     "data": {
      "text/html": [
       "<div>\n",
       "<style scoped>\n",
       "    .dataframe tbody tr th:only-of-type {\n",
       "        vertical-align: middle;\n",
       "    }\n",
       "\n",
       "    .dataframe tbody tr th {\n",
       "        vertical-align: top;\n",
       "    }\n",
       "\n",
       "    .dataframe thead th {\n",
       "        text-align: right;\n",
       "    }\n",
       "</style>\n",
       "<table border=\"1\" class=\"dataframe\">\n",
       "  <thead>\n",
       "    <tr style=\"text-align: right;\">\n",
       "      <th></th>\n",
       "      <th>year</th>\n",
       "      <th>TOPEX/Poseidon</th>\n",
       "      <th>Jason-1</th>\n",
       "      <th>Jason-2</th>\n",
       "      <th>Jason-3</th>\n",
       "      <th>SL</th>\n",
       "    </tr>\n",
       "  </thead>\n",
       "  <tbody>\n",
       "    <tr>\n",
       "      <th>0</th>\n",
       "      <td>1992.9609</td>\n",
       "      <td>-5.59</td>\n",
       "      <td>NaN</td>\n",
       "      <td>NaN</td>\n",
       "      <td>NaN</td>\n",
       "      <td>-5.59</td>\n",
       "    </tr>\n",
       "    <tr>\n",
       "      <th>1</th>\n",
       "      <td>1992.9859</td>\n",
       "      <td>-16.89</td>\n",
       "      <td>NaN</td>\n",
       "      <td>NaN</td>\n",
       "      <td>NaN</td>\n",
       "      <td>-16.89</td>\n",
       "    </tr>\n",
       "    <tr>\n",
       "      <th>2</th>\n",
       "      <td>1993.0108</td>\n",
       "      <td>-18.49</td>\n",
       "      <td>NaN</td>\n",
       "      <td>NaN</td>\n",
       "      <td>NaN</td>\n",
       "      <td>-18.49</td>\n",
       "    </tr>\n",
       "    <tr>\n",
       "      <th>3</th>\n",
       "      <td>1993.0382</td>\n",
       "      <td>7.01</td>\n",
       "      <td>NaN</td>\n",
       "      <td>NaN</td>\n",
       "      <td>NaN</td>\n",
       "      <td>7.01</td>\n",
       "    </tr>\n",
       "    <tr>\n",
       "      <th>4</th>\n",
       "      <td>1993.0654</td>\n",
       "      <td>11.31</td>\n",
       "      <td>NaN</td>\n",
       "      <td>NaN</td>\n",
       "      <td>NaN</td>\n",
       "      <td>11.31</td>\n",
       "    </tr>\n",
       "    <tr>\n",
       "      <th>...</th>\n",
       "      <td>...</td>\n",
       "      <td>...</td>\n",
       "      <td>...</td>\n",
       "      <td>...</td>\n",
       "      <td>...</td>\n",
       "      <td>...</td>\n",
       "    </tr>\n",
       "    <tr>\n",
       "      <th>1303</th>\n",
       "      <td>2020.6772</td>\n",
       "      <td>NaN</td>\n",
       "      <td>NaN</td>\n",
       "      <td>NaN</td>\n",
       "      <td>91.61</td>\n",
       "      <td>91.61</td>\n",
       "    </tr>\n",
       "    <tr>\n",
       "      <th>1304</th>\n",
       "      <td>2020.7047</td>\n",
       "      <td>NaN</td>\n",
       "      <td>NaN</td>\n",
       "      <td>NaN</td>\n",
       "      <td>77.61</td>\n",
       "      <td>77.61</td>\n",
       "    </tr>\n",
       "    <tr>\n",
       "      <th>1305</th>\n",
       "      <td>2020.7312</td>\n",
       "      <td>NaN</td>\n",
       "      <td>NaN</td>\n",
       "      <td>NaN</td>\n",
       "      <td>98.11</td>\n",
       "      <td>98.11</td>\n",
       "    </tr>\n",
       "    <tr>\n",
       "      <th>1306</th>\n",
       "      <td>2020.7585</td>\n",
       "      <td>NaN</td>\n",
       "      <td>NaN</td>\n",
       "      <td>NaN</td>\n",
       "      <td>127.31</td>\n",
       "      <td>127.31</td>\n",
       "    </tr>\n",
       "    <tr>\n",
       "      <th>1307</th>\n",
       "      <td>2020.7812</td>\n",
       "      <td>NaN</td>\n",
       "      <td>NaN</td>\n",
       "      <td>NaN</td>\n",
       "      <td>165.21</td>\n",
       "      <td>165.21</td>\n",
       "    </tr>\n",
       "  </tbody>\n",
       "</table>\n",
       "<p>1308 rows × 6 columns</p>\n",
       "</div>"
      ],
      "text/plain": [
       "           year  TOPEX/Poseidon  Jason-1  Jason-2  Jason-3      SL\n",
       "0     1992.9609           -5.59      NaN      NaN      NaN   -5.59\n",
       "1     1992.9859          -16.89      NaN      NaN      NaN  -16.89\n",
       "2     1993.0108          -18.49      NaN      NaN      NaN  -18.49\n",
       "3     1993.0382            7.01      NaN      NaN      NaN    7.01\n",
       "4     1993.0654           11.31      NaN      NaN      NaN   11.31\n",
       "...         ...             ...      ...      ...      ...     ...\n",
       "1303  2020.6772             NaN      NaN      NaN    91.61   91.61\n",
       "1304  2020.7047             NaN      NaN      NaN    77.61   77.61\n",
       "1305  2020.7312             NaN      NaN      NaN    98.11   98.11\n",
       "1306  2020.7585             NaN      NaN      NaN   127.31  127.31\n",
       "1307  2020.7812             NaN      NaN      NaN   165.21  165.21\n",
       "\n",
       "[1308 rows x 6 columns]"
      ]
     },
     "execution_count": 79,
     "metadata": {},
     "output_type": "execute_result"
    }
   ],
   "source": [
    "df #it can be seen the new column called SL(sea level)"
   ]
  },
  {
   "cell_type": "code",
   "execution_count": 80,
   "id": "15893c65",
   "metadata": {},
   "outputs": [
    {
     "data": {
      "text/plain": [
       "<AxesSubplot:xlabel='year'>"
      ]
     },
     "execution_count": 80,
     "metadata": {},
     "output_type": "execute_result"
    },
    {
     "data": {
      "image/png": "[encoded data removed]",
      "text/plain": [
       "<Figure size 432x288 with 1 Axes>"
      ]
     },
     "metadata": {
      "needs_background": "light"
     },
     "output_type": "display_data"
    }
   ],
   "source": [
    "df.plot(x='year', y='SL') #the year and SL graph"
   ]
  },
  {
   "cell_type": "code",
   "execution_count": 108,
   "id": "4a660827",
   "metadata": {},
   "outputs": [
    {
     "name": "stdout",
     "output_type": "stream",
     "text": [
      "mean is: 26.57092889908258\n"
     ]
    }
   ],
   "source": [
    "df2 = df[\"SL\"].mean()\n",
    "print(f\"mean is: {df2}\")"
   ]
  },
  {
   "cell_type": "code",
   "execution_count": 114,
   "id": "90e32c70",
   "metadata": {},
   "outputs": [
    {
     "data": {
      "text/plain": [
       "0   -5.59\n",
       "dtype: float64"
      ]
     },
     "execution_count": 114,
     "metadata": {},
     "output_type": "execute_result"
    }
   ],
   "source": [
    "#df.mode(axis='columns', numeric_only=True)\n",
    "df['SL'].mode()"
   ]
  },
  {
   "cell_type": "code",
   "execution_count": 113,
   "id": "f7a94671",
   "metadata": {},
   "outputs": [
    {
     "data": {
      "text/plain": [
       "22.845"
      ]
     },
     "execution_count": 113,
     "metadata": {},
     "output_type": "execute_result"
    }
   ],
   "source": [
    "df['SL'].median()"
   ]
  },
  {
   "cell_type": "code",
   "execution_count": 115,
   "id": "351751f5",
   "metadata": {},
   "outputs": [
    {
     "data": {
      "text/plain": [
       "58.73939867818287"
      ]
     },
     "execution_count": 115,
     "metadata": {},
     "output_type": "execute_result"
    }
   ],
   "source": [
    "df['SL'].std()"
   ]
  },
  {
   "cell_type": "code",
   "execution_count": 116,
   "id": "6105f772",
   "metadata": {},
   "outputs": [
    {
     "data": {
      "text/plain": [
       "3450.3169570745117"
      ]
     },
     "execution_count": 116,
     "metadata": {},
     "output_type": "execute_result"
    }
   ],
   "source": [
    "df['SL'].var()"
   ]
  },
  {
   "cell_type": "code",
   "execution_count": 125,
   "id": "dc0aeec2",
   "metadata": {},
   "outputs": [
    {
     "data": {
      "text/plain": [
       "Text(0.5, 1.0, 'Years-Sea Levels Graph')"
      ]
     },
     "execution_count": 125,
     "metadata": {},
     "output_type": "execute_result"
    },
    {
     "data": {
      "image/png": "[encoded data removed]",
      "text/plain": [
       "<Figure size 432x288 with 1 Axes>"
      ]
     },
     "metadata": {
      "needs_background": "light"
     },
     "output_type": "display_data"
    }
   ],
   "source": [
    "x = df[\"year\"]\n",
    "y = df[\"SL\"]\n",
    "# Plot the Data itself.\n",
    "plt.plot(x, y)\n",
    "\n",
    "# Calculate the Trendline\n",
    "z = np.polyfit(x, y, 1)\n",
    "p = np.poly1d(z)\n",
    "\n",
    "# Display the Trendline\n",
    "plt.plot(x, p(x))\n",
    "plt.xlabel(\"Years\")\n",
    "plt.ylabel(\"Sea Levels (m)\")\n",
    "plt.title(\"Years-Sea Levels Graph\")"
   ]
  },
  {
   "cell_type": "code",
   "execution_count": 117,
   "id": "3c1f66a8",
   "metadata": {},
   "outputs": [
    {
     "data": {
      "text/plain": [
       "[<matplotlib.lines.Line2D at 0x1b986bfbaf0>]"
      ]
     },
     "execution_count": 117,
     "metadata": {},
     "output_type": "execute_result"
    },
    {
     "data": {
      "image/png": "[encoded data removed]",
      "text/plain": [
       "<Figure size 432x288 with 1 Axes>"
      ]
     },
     "metadata": {
      "needs_background": "light"
     },
     "output_type": "display_data"
    }
   ],
   "source": [
    "x = [x for x in range(0, 10)]\n",
    "y = np.random.rand(10)\n",
    "# Plot the Data itself.\n",
    "plt.plot(x, y)\n",
    "\n",
    "# Calculate the Trendline\n",
    "z = np.polyfit(x, y, 1)\n",
    "p = np.poly1d(z)\n",
    "\n",
    "# Display the Trendline\n",
    "plt.plot(x, p(x))"
   ]
  },
  {
   "cell_type": "code",
   "execution_count": null,
   "id": "408590dc",
   "metadata": {},
   "outputs": [],
   "source": []
  },
  {
   "cell_type": "code",
   "execution_count": 86,
   "id": "cc2620cb",
   "metadata": {},
   "outputs": [
    {
     "name": "stdout",
     "output_type": "stream",
     "text": [
      "Requirement already satisfied: plotly==5.11.0 in c:\\users\\ulas3\\anaconda3\\lib\\site-packages (5.11.0)\n",
      "Requirement already satisfied: tenacity>=6.2.0 in c:\\users\\ulas3\\anaconda3\\lib\\site-packages (from plotly==5.11.0) (8.1.0)\n",
      "Note: you may need to restart the kernel to use updated packages.\n"
     ]
    }
   ],
   "source": [
    "pip install plotly==5.11.0"
   ]
  },
  {
   "cell_type": "code",
   "execution_count": null,
   "id": "d4695257",
   "metadata": {},
   "outputs": [],
   "source": []
  },
  {
   "cell_type": "code",
   "execution_count": null,
   "id": "4a4c585b",
   "metadata": {},
   "outputs": [],
   "source": []
  },
  {
   "cell_type": "code",
   "execution_count": null,
   "id": "8f9bee38",
   "metadata": {},
   "outputs": [],
   "source": []
  },
  {
   "cell_type": "code",
   "execution_count": null,
   "id": "b7bd196a",
   "metadata": {},
   "outputs": [],
   "source": []
  }
 ],
 "metadata": {
  "kernelspec": {
   "display_name": "Python 3 (ipykernel)",
   "language": "python",
   "name": "python3"
  },
  "language_info": {
   "codemirror_mode": {
    "name": "ipython",
    "version": 3
   },
   "file_extension": ".py",
   "mimetype": "text/x-python",
   "name": "python",
   "nbconvert_exporter": "python",
   "pygments_lexer": "ipython3",
   "version": "3.9.7"
  }
 },
 "nbformat": 4,
 "nbformat_minor": 5
}
